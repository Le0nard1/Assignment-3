{
  "nbformat": 4,
  "nbformat_minor": 5,
  "metadata": {
    "kernelspec": {
      "display_name": "Python 3",
      "language": "python",
      "name": "python3"
    },
    "language_info": {
      "codemirror_mode": {
        "name": "ipython",
        "version": 3
      },
      "file_extension": ".py",
      "mimetype": "text/x-python",
      "name": "python",
      "nbconvert_exporter": "python",
      "pygments_lexer": "ipython3",
      "version": "3.7.10"
    },
    "colab": {
      "name": "Assignment 3.ipynb",
      "provenance": [],
      "collapsed_sections": []
    }
  },
  "cells": [
    {
      "cell_type": "markdown",
      "metadata": {
        "id": "d2d3ac21"
      },
      "source": [
        "# [Programming assignment 3: Stance detection](http://www.cse.chalmers.se/~richajo/dit866/assignments/a3/assignment3.html)"
      ],
      "id": "d2d3ac21"
    },
    {
      "cell_type": "code",
      "metadata": {
        "id": "ec39a175"
      },
      "source": [
        "# for handeling data\n",
        "import pandas as pd\n",
        "\n",
        "# for mathematical manipulation\n",
        "import numpy as np\n",
        "\n",
        "# the actual classification algorithm\n",
        "from sklearn.svm import LinearSVC\n",
        "\n",
        "# for converting training and test datasets into matrices\n",
        "# TfidfVectorizer does this specifically for documents\n",
        "from sklearn.feature_extraction.text import TfidfVectorizer\n",
        "\n",
        "# for bundling the vectorizer and the classifier as a single \"package\"\n",
        "from sklearn.pipeline import make_pipeline\n",
        "\n",
        "# for splitting the dataset into training and test sets \n",
        "from sklearn.model_selection import train_test_split\n",
        "\n",
        "# for evaluating the quality of the classifier\n",
        "from sklearn.metrics import accuracy_score"
      ],
      "id": "ec39a175",
      "execution_count": 1,
      "outputs": []
    },
    {
      "cell_type": "code",
      "metadata": {
        "colab": {
          "base_uri": "https://localhost:8080/",
          "height": 202
        },
        "id": "sufficient-export",
        "outputId": "0cbfe333-6b6a-4626-df17-1c81dc9b22f7"
      },
      "source": [
        "# import the training data\n",
        "df_train = pd.read_csv('http://www.cse.chalmers.se/~richajo/dit866/assignments/a3/data/a3_train_final.tsv',\n",
        "                 sep='\\t', header=None, names=[\"sentiment\",\"comment\"])\n",
        "\n",
        "df_test = pd.read_csv('http://www.cse.chalmers.se/~richajo/dit866/assignments/a3/data/a3_test_final.tsv',\n",
        "                 sep='\\t', header=None, names=[\"sentiment\",\"comment\"])\n",
        "df_test[\"sentiment\"]= df_test[\"sentiment\"].apply(str)\n",
        "\n",
        "# look at the data\n",
        "df_train.tail()"
      ],
      "id": "sufficient-export",
      "execution_count": 2,
      "outputs": [
        {
          "output_type": "execute_result",
          "data": {
            "text/html": [
              "<div>\n",
              "<style scoped>\n",
              "    .dataframe tbody tr th:only-of-type {\n",
              "        vertical-align: middle;\n",
              "    }\n",
              "\n",
              "    .dataframe tbody tr th {\n",
              "        vertical-align: top;\n",
              "    }\n",
              "\n",
              "    .dataframe thead th {\n",
              "        text-align: right;\n",
              "    }\n",
              "</style>\n",
              "<table border=\"1\" class=\"dataframe\">\n",
              "  <thead>\n",
              "    <tr style=\"text-align: right;\">\n",
              "      <th></th>\n",
              "      <th>sentiment</th>\n",
              "      <th>comment</th>\n",
              "    </tr>\n",
              "  </thead>\n",
              "  <tbody>\n",
              "    <tr>\n",
              "      <th>16903</th>\n",
              "      <td>0/0</td>\n",
              "      <td>😂 The federal Government thinks their going to...</td>\n",
              "    </tr>\n",
              "    <tr>\n",
              "      <th>16904</th>\n",
              "      <td>0/0</td>\n",
              "      <td>😐Its gonna be a NO for me.</td>\n",
              "    </tr>\n",
              "    <tr>\n",
              "      <th>16905</th>\n",
              "      <td>0/0</td>\n",
              "      <td>🤣 keep your 💩 I already know 3 people who have...</td>\n",
              "    </tr>\n",
              "    <tr>\n",
              "      <th>16906</th>\n",
              "      <td>0/0</td>\n",
              "      <td>🤣🤣🤣 \"JUST BECAUSE IT'S SAFE, DOESN'T MEAN IT D...</td>\n",
              "    </tr>\n",
              "    <tr>\n",
              "      <th>16907</th>\n",
              "      <td>0/0</td>\n",
              "      <td>🤨there's people already having severe side eff...</td>\n",
              "    </tr>\n",
              "  </tbody>\n",
              "</table>\n",
              "</div>"
            ],
            "text/plain": [
              "      sentiment                                            comment\n",
              "16903       0/0  😂 The federal Government thinks their going to...\n",
              "16904       0/0                         😐Its gonna be a NO for me.\n",
              "16905       0/0  🤣 keep your 💩 I already know 3 people who have...\n",
              "16906       0/0  🤣🤣🤣 \"JUST BECAUSE IT'S SAFE, DOESN'T MEAN IT D...\n",
              "16907       0/0  🤨there's people already having severe side eff..."
            ]
          },
          "metadata": {
            "tags": []
          },
          "execution_count": 2
        }
      ]
    },
    {
      "cell_type": "markdown",
      "metadata": {
        "id": "vietnamese-verification"
      },
      "source": [
        "We only like to keep the comments where all the sentiments agree, or all agree or are unsure, therefore we remove all the comments where all the sentiments don't agree."
      ],
      "id": "vietnamese-verification"
    },
    {
      "cell_type": "code",
      "metadata": {
        "colab": {
          "base_uri": "https://localhost:8080/",
          "height": 0
        },
        "id": "fuzzy-network",
        "outputId": "c0b9db27-f1ed-48f8-85d0-cd7efed406af"
      },
      "source": [
        "# drop comments where the sentiments don't agree\n",
        "l = [] # list with elements to drop\n",
        "\n",
        "#count percentage of agreement\n",
        "counter_agree = 0\n",
        "counter_disagree = 0\n",
        "counter_unsure= 0\n",
        "\n",
        "for i in range(len(df_train)):\n",
        "    # get the ith sentiment and split it into a list \n",
        "    sentiment = df_train[\"sentiment\"][i].split('/')\n",
        "    \n",
        "\n",
        "    # check if the all the elements are the same\n",
        "    if all(s == '-1' for s in sentiment) == True:\n",
        "        # if all the elements are -1 drop that row\n",
        "        l.append(i)\n",
        "        counter_unsure = counter_unsure +1\n",
        "    elif all(s == '0' or s == '-1' for s in sentiment) == True:\n",
        "        # if all the elements are the same we just pick one of them\n",
        "        df_train[\"sentiment\"][i] = '0'\n",
        "        counter_agree = counter_agree +1\n",
        "    elif all(s == '1' or s == '-1' for s in sentiment) == True:\n",
        "        # if all the elements are the same we just pick one of them\n",
        "        df_train[\"sentiment\"][i] = '1'\n",
        "        counter_agree = counter_agree +1\n",
        "    else:\n",
        "        # if all the elements are not the same drop that row\n",
        "        l.append(i)\n",
        "        counter_disagree = counter_disagree +1\n",
        "\n",
        "print(\"Agree:\",counter_agree)\n",
        "print(\"Disagree:\",counter_disagree)\n",
        "print(\"Unsure:\",counter_unsure)\n",
        "print(\"Percentage of Agree:\",counter_agree/(counter_agree + counter_disagree + counter_unsure))\n",
        "print(\"Percentage of Disagree:\",counter_disagree/(counter_agree + counter_disagree + counter_unsure))\n",
        "print(\"Percentage of Unsure:\",counter_unsure/(counter_agree + counter_disagree + counter_unsure))\n",
        "\n",
        "df_train_filtered = df_train.drop(l);"
      ],
      "id": "fuzzy-network",
      "execution_count": 3,
      "outputs": [
        {
          "output_type": "stream",
          "text": [
            "Agree: 15990\n",
            "Disagree: 918\n",
            "Unsure: 0\n",
            "Percentage of Agree: 0.9457061745919092\n",
            "Percentage of Disagree: 0.05429382540809084\n",
            "Percentage of Unsure: 0.0\n"
          ],
          "name": "stdout"
        }
      ]
    },
    {
      "cell_type": "code",
      "metadata": {
        "id": "psychological-worthy"
      },
      "source": [
        "# split into train and test datasets\n",
        "Ytrain = df_train_filtered.iloc[:,0]\n",
        "Xtrain = df_train_filtered.iloc[:,1]\n",
        "Ytest = df_test.iloc[:,0]\n",
        "Xtest = df_test.iloc[:,1]"
      ],
      "id": "psychological-worthy",
      "execution_count": null,
      "outputs": []
    },
    {
      "cell_type": "code",
      "metadata": {
        "id": "d9855be7",
        "outputId": "b83ade8b-60df-4275-c6d8-0d11425397c7"
      },
      "source": [
        "import re\n",
        "\n",
        "def preprocess_text(text):\n",
        "    text = text.lower() # make lower case\n",
        "    text = re.sub(r'\\d+', '', text) # remove digits\n",
        "    return text\n",
        "\n",
        "pipeline = make_pipeline( \n",
        "    TfidfVectorizer(\n",
        "        decode_error='strict',\n",
        "        strip_accents='unicode',\n",
        "        analyzer='word',\n",
        "        min_df = 1,\n",
        "        max_df = 0.8,\n",
        "        ngram_range = (1,2),\n",
        "        sublinear_tf = True,\n",
        "        preprocessor=preprocess_text\n",
        "    ), \n",
        "    LinearSVC(\n",
        "        penalty='l2', \n",
        "        loss='squared_hinge', \n",
        "        max_iter=3000)\n",
        ")\n",
        "pipeline.fit(Xtrain, Ytrain)\n",
        "\n",
        "# corona vaccine comment classifier\n",
        "acc = accuracy_score(Ytrain, pipeline.predict(Xtrain))\n",
        "print(\"Accuracy =\",acc)"
      ],
      "id": "d9855be7",
      "execution_count": null,
      "outputs": [
        {
          "output_type": "stream",
          "text": [
            "Accuracy = 0.9989368355222014\n"
          ],
          "name": "stdout"
        }
      ]
    },
    {
      "cell_type": "code",
      "metadata": {
        "id": "5f2f1bdc"
      },
      "source": [
        "#print(pipeline[0].get_feature_names())"
      ],
      "id": "5f2f1bdc",
      "execution_count": null,
      "outputs": []
    },
    {
      "cell_type": "code",
      "metadata": {
        "id": "cec1ec94",
        "outputId": "536e41fe-c629-4c38-cf97-7a0be8a9d42d"
      },
      "source": [
        "pipeline_vanilla = make_pipeline( \n",
        "    TfidfVectorizer(), \n",
        "    LinearSVC() \n",
        ")\n",
        "pipeline_vanilla.fit(Xtrain, Ytrain)\n",
        "\n",
        "# corona vaccine comment classifier\n",
        "acc = accuracy_score(Ytrain, pipeline_vanilla.predict(Xtrain))\n",
        "print(\"Accuracy Train =\",acc)"
      ],
      "id": "cec1ec94",
      "execution_count": null,
      "outputs": [
        {
          "output_type": "stream",
          "text": [
            "Accuracy = 0.9553527895799958\n"
          ],
          "name": "stdout"
        }
      ]
    },
    {
      "cell_type": "code",
      "metadata": {
        "id": "c7444651",
        "outputId": "4a2993b7-59e1-44e1-e332-fb1f78ed94a5"
      },
      "source": [
        "# corona vaccine comment classifier\n",
        "acc = accuracy_score(Ytest, pipeline.predict(Xtest))\n",
        "print(\"Accuracy Test =\",acc)"
      ],
      "id": "c7444651",
      "execution_count": null,
      "outputs": [
        {
          "output_type": "stream",
          "text": [
            "Accuracy Test = 0.9024943310657596\n"
          ],
          "name": "stdout"
        }
      ]
    },
    {
      "cell_type": "code",
      "metadata": {
        "id": "f19a4a91"
      },
      "source": [
        "Yguess = pipeline.predict(Xtest)\n",
        "a = (Yguess == Ytest)"
      ],
      "id": "f19a4a91",
      "execution_count": null,
      "outputs": []
    },
    {
      "cell_type": "code",
      "metadata": {
        "id": "13cce492",
        "outputId": "ed09c4b1-3f7b-4d90-dcc9-3456e6c215d8"
      },
      "source": [
        "a[5]"
      ],
      "id": "13cce492",
      "execution_count": null,
      "outputs": [
        {
          "output_type": "execute_result",
          "data": {
            "text/plain": [
              "False"
            ]
          },
          "metadata": {
            "tags": []
          },
          "execution_count": 85
        }
      ]
    },
    {
      "cell_type": "code",
      "metadata": {
        "id": "30985242"
      },
      "source": [
        "# wrong predictions\n",
        "wp = [i for i, x in enumerate(a) if not x]"
      ],
      "id": "30985242",
      "execution_count": null,
      "outputs": []
    },
    {
      "cell_type": "code",
      "metadata": {
        "id": "013f7af7",
        "outputId": "b1b7a401-1d1f-4540-81d2-09f861121e19"
      },
      "source": [
        "Ytest[wp[3]],Xtest[wp[3]]"
      ],
      "id": "013f7af7",
      "execution_count": null,
      "outputs": [
        {
          "output_type": "execute_result",
          "data": {
            "text/plain": [
              "('1',\n",
              " \"And a vaccine literally introduces the virus to your immune system in a non harmful way... Good food doesn't produce antibodies, a vaccine does.\")"
            ]
          },
          "metadata": {
            "tags": []
          },
          "execution_count": 105
        }
      ]
    },
    {
      "cell_type": "code",
      "metadata": {
        "id": "65d91753",
        "outputId": "616b93e2-1997-4828-d66a-e2f6f5890920"
      },
      "source": [
        "from sklearn.metrics import confusion_matrix, plot_confusion_matrix\n",
        "\n",
        "plot_confusion_matrix(pipeline, Xtest, Ytest) "
      ],
      "id": "65d91753",
      "execution_count": null,
      "outputs": [
        {
          "output_type": "execute_result",
          "data": {
            "text/plain": [
              "<sklearn.metrics._plot.confusion_matrix.ConfusionMatrixDisplay at 0x20b794e7cc8>"
            ]
          },
          "metadata": {
            "tags": []
          },
          "execution_count": 65
        },
        {
          "output_type": "display_data",
          "data": {
            "image/png": "[encoded data removed]",
            "text/plain": [
              "<Figure size 432x288 with 2 Axes>"
            ]
          },
          "metadata": {
            "tags": [],
            "needs_background": "light"
          }
        }
      ]
    },
    {
      "cell_type": "markdown",
      "metadata": {
        "id": "c5225124"
      },
      "source": [
        "## Preliminary Sample"
      ],
      "id": "c5225124"
    },
    {
      "cell_type": "code",
      "metadata": {
        "id": "31c6af76",
        "outputId": "27d3b133-96f6-4f68-a61f-6d46674c1ac8"
      },
      "source": [
        "# import the data\n",
        "df = pd.read_csv('http://www.cse.chalmers.se/~richajo/dit866/data/a3_first_sample.tsv',\n",
        "                 sep='\\t', header=None, names=[\"sentiment\",\"comment\"])\n",
        "\n",
        "# look at the data\n",
        "df.tail()"
      ],
      "id": "31c6af76",
      "execution_count": null,
      "outputs": [
        {
          "output_type": "execute_result",
          "data": {
            "text/html": [
              "<div>\n",
              "<style scoped>\n",
              "    .dataframe tbody tr th:only-of-type {\n",
              "        vertical-align: middle;\n",
              "    }\n",
              "\n",
              "    .dataframe tbody tr th {\n",
              "        vertical-align: top;\n",
              "    }\n",
              "\n",
              "    .dataframe thead th {\n",
              "        text-align: right;\n",
              "    }\n",
              "</style>\n",
              "<table border=\"1\" class=\"dataframe\">\n",
              "  <thead>\n",
              "    <tr style=\"text-align: right;\">\n",
              "      <th></th>\n",
              "      <th>sentiment</th>\n",
              "      <th>comment</th>\n",
              "    </tr>\n",
              "  </thead>\n",
              "  <tbody>\n",
              "    <tr>\n",
              "      <th>970</th>\n",
              "      <td>0</td>\n",
              "      <td>Thank you for  the video,  however  instead of...</td>\n",
              "    </tr>\n",
              "    <tr>\n",
              "      <th>971</th>\n",
              "      <td>0</td>\n",
              "      <td>Over my dead body will I get the vaccine or tr...</td>\n",
              "    </tr>\n",
              "    <tr>\n",
              "      <th>972</th>\n",
              "      <td>0</td>\n",
              "      <td>By CDC's own numbers recovery rates are higher...</td>\n",
              "    </tr>\n",
              "    <tr>\n",
              "      <th>973</th>\n",
              "      <td>1</td>\n",
              "      <td>Alrhough I don't understand everything, at lea...</td>\n",
              "    </tr>\n",
              "    <tr>\n",
              "      <th>974</th>\n",
              "      <td>0</td>\n",
              "      <td>WHAT ABOUT THE ONE'S DYING AT THEIR FIRST INJE...</td>\n",
              "    </tr>\n",
              "  </tbody>\n",
              "</table>\n",
              "</div>"
            ],
            "text/plain": [
              "     sentiment                                            comment\n",
              "970          0  Thank you for  the video,  however  instead of...\n",
              "971          0  Over my dead body will I get the vaccine or tr...\n",
              "972          0  By CDC's own numbers recovery rates are higher...\n",
              "973          1  Alrhough I don't understand everything, at lea...\n",
              "974          0  WHAT ABOUT THE ONE'S DYING AT THEIR FIRST INJE..."
            ]
          },
          "metadata": {
            "tags": []
          },
          "execution_count": 3
        }
      ]
    },
    {
      "cell_type": "markdown",
      "metadata": {
        "id": "modular-entrepreneur"
      },
      "source": [
        "We split the data into training and test sets. We use 20% of the data for testing. The `random_state` argument here is for reproducibility, to make sure we get the same train/test split each time we run the notebook, since `train_test_split` does the split randomly."
      ],
      "id": "modular-entrepreneur"
    },
    {
      "cell_type": "code",
      "metadata": {
        "id": "3dcf53e6"
      },
      "source": [
        "# split into train and test datasets\n",
        "Ydata = df.iloc[:,0]\n",
        "Xdata = df.iloc[:,1]\n",
        "Xtrain, Xtest, Ytrain, Ytest = train_test_split(Xdata, Ydata, test_size=0.2, random_state=12345)"
      ],
      "id": "3dcf53e6",
      "execution_count": null,
      "outputs": []
    },
    {
      "cell_type": "markdown",
      "metadata": {
        "id": "0a7480fe"
      },
      "source": [
        "We create our pipeline"
      ],
      "id": "0a7480fe"
    },
    {
      "cell_type": "code",
      "metadata": {
        "id": "virtual-facility",
        "outputId": "170dcfad-c981-430d-90e2-45d1ef42df2b"
      },
      "source": [
        "import re\n",
        "\n",
        "def preprocess_text(text):\n",
        "    text = text.lower() # make lower case\n",
        "    text = re.sub(r'\\d+', '', text) # remove digits\n",
        "    return text\n",
        "\n",
        "\n",
        "pipeline = make_pipeline( \n",
        "    TfidfVectorizer(\n",
        "        decode_error='strict', \n",
        "        strip_accents='unicode',\n",
        "        analyzer='word',\n",
        "        min_df = 1,\n",
        "        max_df = 0.8,\n",
        "        ngram_range = (1,2),\n",
        "        sublinear_tf = True,\n",
        "        preprocessor=preprocess_text\n",
        "    ), \n",
        "    LinearSVC(\n",
        "        penalty='l2', \n",
        "        loss='squared_hinge', \n",
        "        max_iter=3000) \n",
        ")\n",
        "pipeline.fit(Xtrain, Ytrain)\n",
        "\n",
        "# corona vaccine comment classifier\n",
        "acc = accuracy_score(Ytrain, pipeline.predict(Xtrain))\n",
        "print(\"Accuracy =\",acc)"
      ],
      "id": "virtual-facility",
      "execution_count": null,
      "outputs": [
        {
          "output_type": "stream",
          "text": [
            "Accuracy = 1.0\n"
          ],
          "name": "stdout"
        }
      ]
    },
    {
      "cell_type": "code",
      "metadata": {
        "id": "6ce82e5d",
        "outputId": "76b92677-28f9-4dfa-9b74-724d4c0c5acd"
      },
      "source": [
        "acc = accuracy_score(Ytest, pipeline.predict(Xtest))\n",
        "print(\"Accuracy =\",acc)"
      ],
      "id": "6ce82e5d",
      "execution_count": null,
      "outputs": [
        {
          "output_type": "stream",
          "text": [
            "Accuracy = 0.7333333333333333\n"
          ],
          "name": "stdout"
        }
      ]
    },
    {
      "cell_type": "code",
      "metadata": {
        "id": "8b842ced"
      },
      "source": [
        "def vaccine_comment_classifier(X, Y):\n",
        "    pipeline = make_pipeline( \n",
        "        TfidfVectorizer(), \n",
        "        LinearSVC() \n",
        "    )\n",
        "    pipeline.fit(X, Y)\n",
        "    return pipeline"
      ],
      "id": "8b842ced",
      "execution_count": null,
      "outputs": []
    },
    {
      "cell_type": "code",
      "metadata": {
        "id": "filled-registrar",
        "outputId": "5455fc15-acab-4791-e98d-a430ce4089ec"
      },
      "source": [
        "clf = vaccine_comment_classifier(Xtrain, Ytrain)\n",
        "# corona vaccine comment classifier\n",
        "acc = accuracy_score(Ytrain, clf.predict(Xtrain))\n",
        "print(\"Accuracy =\",acc)"
      ],
      "id": "filled-registrar",
      "execution_count": null,
      "outputs": [
        {
          "output_type": "stream",
          "text": [
            "Accuracy = 0.9974358974358974\n"
          ],
          "name": "stdout"
        }
      ]
    },
    {
      "cell_type": "code",
      "metadata": {
        "id": "imported-israeli",
        "outputId": "3d93b77a-eb8f-45ac-84a4-6b1b404d9fef"
      },
      "source": [
        "# book review classifier evaluated on book review test set\n",
        "acc = accuracy_score(Ytest, clf.predict(Xtest))\n",
        "print(\"Accuracy =\",acc)"
      ],
      "id": "imported-israeli",
      "execution_count": null,
      "outputs": [
        {
          "output_type": "stream",
          "text": [
            "Accuracy = 0.7230769230769231\n"
          ],
          "name": "stdout"
        }
      ]
    },
    {
      "cell_type": "markdown",
      "metadata": {
        "id": "affecting-orange"
      },
      "source": [
        "## Testing stuff"
      ],
      "id": "affecting-orange"
    },
    {
      "cell_type": "code",
      "metadata": {
        "id": "silver-ultimate",
        "outputId": "16d58490-b173-47b0-9ad9-71c40c5f99e4"
      },
      "source": [
        "import re\n",
        "\n",
        "def preprocess_text(text):\n",
        "    text = text.lower() # make lower case\n",
        "    text = re.sub(r'\\d+', '', text) # remove digits\n",
        "    return text\n",
        "\n",
        "vect = TfidfVectorizer(decode_error='strict', \n",
        "                         strip_accents='unicode',\n",
        "                         analyzer='word',\n",
        "                         stop_words='english',\n",
        "                         preprocessor=preprocess_text,\n",
        "                         max_features=10000\n",
        "                      )\n",
        "vect.fit_transform(['👋 Welcome. hi there you and me are going to the super market lulz :) 123'])\n",
        "print(vect.get_feature_names())"
      ],
      "id": "silver-ultimate",
      "execution_count": null,
      "outputs": [
        {
          "output_type": "stream",
          "text": [
            "['going', 'hi', 'lulz', 'market', 'super', 'welcome']\n"
          ],
          "name": "stdout"
        }
      ]
    },
    {
      "cell_type": "code",
      "metadata": {
        "id": "confused-bookmark",
        "outputId": "c6a3f759-7b9a-4222-84e3-5cf75f2e506c"
      },
      "source": [
        "from sklearn.feature_extraction.text import TfidfVectorizer\n",
        "from nltk.corpus import stopwords\n",
        "stop_words = stopwords.words('english');\n",
        "\n",
        "# Create feature vectors\n",
        "vectorizer = TfidfVectorizer(decode_error='strict', \n",
        "                             strip_accents='unicode',\n",
        "                             analyzer='word',\n",
        "                             stop_words=stop_words,\n",
        "                             preprocessor=preprocess_text,\n",
        "                             max_features=10000,\n",
        "                             min_df = 5,\n",
        "                             max_df = 0.8,\n",
        "                             sublinear_tf = True,\n",
        "                            )\n",
        "\n",
        "Xtrain_encoded = vectorizer.fit_transform(Xtest)\n",
        "print(vectorizer.get_feature_names())"
      ],
      "id": "confused-bookmark",
      "execution_count": null,
      "outputs": [
        {
          "output_type": "stream",
          "text": [
            "['ability', 'able', 'aborted', 'absolutely', 'accept', 'access', 'according', 'aches', 'across', 'action', 'actual', 'actually', 'administered', 'administration', 'adults', 'adverse', 'affect', 'affected', 'affects', 'afraid', 'age', 'agenda', 'ago', 'agree', 'ahead', 'aids', 'air', 'alive', 'allergic', 'allergies', 'allow', 'allowed', 'almost', 'alone', 'along', 'alot', 'already', 'also', 'although', 'always', 'amazing', 'america', 'americans', 'among', 'amount', 'animal', 'animals', 'annual', 'another', 'answer', 'anti', 'antibodies', 'antivax', 'antivaxx', 'antivaxxers', 'anybody', 'anymore', 'anyone', 'anything', 'anytime', 'anyway', 'apart', 'appointment', 'appreciate', 'approval', 'approved', 'april', 'area', 'argument', 'arm', 'around', 'articles', 'asap', 'aside', 'ask', 'asking', 'asthma', 'astra', 'astrazeneca', 'attack', 'attacks', 'aunt', 'autism', 'autoimmune', 'available', 'average', 'avoid', 'away', 'awesome', 'az', 'babies', 'baby', 'back', 'bad', 'banned', 'based', 'basically', 'bbc', 'bc', 'beast', 'become', 'becomes', 'becoming', 'bed', 'beginning', 'behind', 'believe', 'benefit', 'benefits', 'besides', 'best', 'bet', 'better', 'beyond', 'biden', 'big', 'biggest', 'bill', 'billions', 'biological', 'biontech', 'birth', 'bit', 'black', 'bless', 'blood', 'bodies', 'body', 'booked', 'boost', 'brain', 'brave', 'brilliant', 'bring', 'brother', 'bs', 'build', 'bullshit', 'business', 'businesses', 'call', 'called', 'came', 'cancer', 'cannot', 'cant', 'car', 'care', 'case', 'cases', 'catch', 'catching', 'cause', 'caused', 'causes', 'causing', 'cdc', 'cells', 'certain', 'certainly', 'chance', 'chances', 'change', 'changed', 'chemical', 'chemicals', 'child', 'childhood', 'children', 'chills', 'china', 'chip', 'choice', 'choose', 'citizens', 'clear', 'clearly', 'clinical', 'close', 'closer', 'clot', 'clots', 'co', 'code', 'cold', 'come', 'comes', 'comfortable', 'coming', 'comments', 'common', 'community', 'companies', 'company', 'compared', 'complaining', 'complete', 'completely', 'complications', 'compromised', 'concern', 'concerned', 'conditions', 'confidence', 'confident', 'consent', 'consider', 'considered', 'considering', 'conspiracy', 'contain', 'contains', 'continue', 'contract', 'control', 'convince', 'convinced', 'cool', 'corona', 'coronavirus', 'correct', 'correlation', 'corrupt', 'cost', 'could', 'counting', 'countries', 'country', 'couple', 'course', 'cov', 'cover', 'covid', 'covidvaccine', 'covishield', 'crap', 'crazy', 'create', 'created', 'creating', 'crisis', 'critical', 'cure', 'current', 'currently', 'cut', 'cuz', 'dad', 'daily', 'damage', 'damages', 'damn', 'dangerous', 'data', 'date', 'daughter', 'day', 'days', 'dead', 'deadly', 'deal', 'death', 'deaths', 'decide', 'decided', 'decision', 'decline', 'definitely', 'definition', 'desire', 'despite', 'develop', 'developed', 'developing', 'development', 'diabetes', 'die', 'died', 'diet', 'difference', 'different', 'directly', 'discovered', 'disease', 'diseases', 'disorder', 'distance', 'distancing', 'distribution', 'dna', 'doctor', 'doctors', 'donate', 'done', 'dont', 'dose', 'doses', 'double', 'doubt', 'dr', 'drink', 'drive', 'drug', 'drugs', 'due', 'dumb', 'duty', 'dying', 'early', 'earth', 'easily', 'easy', 'eat', 'education', 'effect', 'effective', 'effectiveness', 'effects', 'efficacy', 'effort', 'either', 'elderly', 'eligible', 'else', 'emergency', 'encourage', 'end', 'ending', 'enough', 'entire', 'eradicated', 'especially', 'essential', 'etc', 'eu', 'even', 'ever', 'every', 'everybody', 'everyone', 'everything', 'evidence', 'evil', 'exactly', 'excellent', 'except', 'excited', 'exist', 'expect', 'experience', 'experiencing', 'experiment', 'experimental', 'experts', 'explain', 'explained', 'explanation', 'exposed', 'extremely', 'eyes', 'face', 'fact', 'facts', 'failure', 'fair', 'faith', 'fake', 'fall', 'false', 'families', 'family', 'fantastic', 'far', 'fast', 'faster', 'fatal', 'fatality', 'father', 'fatigue', 'fauci', 'fda', 'fear', 'fears', 'feel', 'feeling', 'feels', 'feet', 'felt', 'fertility', 'fetal', 'fever', 'fight', 'fighting', 'finally', 'find', 'fine', 'finished', 'first', 'fit', 'five', 'flu', 'folks', 'follow', 'following', 'food', 'fool', 'force', 'forced', 'forcing', 'forever', 'forget', 'forgot', 'form', 'forward', 'found', 'four', 'free', 'freedom', 'friday', 'friend', 'friends', 'front', 'frontline', 'fuck', 'fucking', 'full', 'fully', 'fun', 'funding', 'funny', 'future', 'garbage', 'gates', 'gave', 'gene', 'general', 'genetic', 'germany', 'get', 'gets', 'getting', 'gift', 'give', 'given', 'gives', 'giving', 'glad', 'gladly', 'global', 'go', 'god', 'goes', 'going', 'gone', 'gonna', 'good', 'google', 'got', 'gotta', 'gotten', 'government', 'governments', 'grandma', 'grandparents', 'grateful', 'great', 'greater', 'greatly', 'group', 'groups', 'guarantee', 'guaranteed', 'guess', 'guinea', 'guy', 'guys', 'half', 'hand', 'hands', 'happen', 'happened', 'happening', 'happens', 'happily', 'happy', 'hard', 'hardly', 'harm', 'harmful', 'hate', 'head', 'headache', 'health', 'healthcare', 'healthy', 'hear', 'heard', 'hearing', 'heart', 'hell', 'help', 'helped', 'helping', 'helps', 'herd', 'hesitant', 'high', 'higher', 'highly', 'history', 'hit', 'hoax', 'hold', 'home', 'honestly', 'hope', 'hopefully', 'hoping', 'horrible', 'hospital', 'hospitalized', 'hospitals', 'hour', 'hours', 'however', 'hrs', 'https', 'hug', 'huge', 'human', 'humanity', 'humans', 'hundreds', 'hurt', 'husband', 'id', 'idea', 'idiot', 'idiots', 'ignorance', 'ignorant', 'ill', 'illegal', 'illness', 'im', 'imagine', 'immediately', 'immune', 'immunity', 'immunization', 'immunocompromised', 'important', 'impossible', 'improve', 'include', 'including', 'increase', 'india', 'individual', 'individuals', 'industry', 'infect', 'infected', 'infecting', 'infection', 'infections', 'info', 'information', 'informative', 'informed', 'ingredients', 'inject', 'injected', 'injecting', 'injection', 'injections', 'injured', 'injuries', 'insane', 'inside', 'instead', 'interested', 'interesting', 'involved', 'israel', 'issue', 'issues', 'jab', 'jabs', 'jesus', 'job', 'johnson', 'joke', 'keep', 'keeping', 'keeps', 'kid', 'kids', 'kill', 'killed', 'killing', 'kills', 'kind', 'know', 'knowing', 'knowledge', 'known', 'knows', 'lab', 'lack', 'large', 'last', 'late', 'later', 'law', 'lawsuits', 'lead', 'leading', 'learned', 'least', 'leave', 'left', 'less', 'let', 'lets', 'letting', 'level', 'liability', 'lie', 'lied', 'lies', 'life', 'like', 'likely', 'limited', 'line', 'link', 'list', 'listen', 'listening', 'literally', 'little', 'live', 'lives', 'living', 'lmao', 'load', 'local', 'lockdown', 'lol', 'long', 'longer', 'look', 'looking', 'looks', 'lord', 'lose', 'lost', 'lot', 'lots', 'love', 'loved', 'low', 'luck', 'lucky', 'lying', 'made', 'main', 'major', 'majority', 'make', 'makes', 'making', 'malaria', 'man', 'mandatory', 'manufacturer', 'manufacturers', 'many', 'mark', 'market', 'mask', 'masks', 'mass', 'massive', 'matter', 'may', 'maybe', 'mean', 'means', 'meant', 'measles', 'measures', 'media', 'medical', 'medications', 'medicine', 'medicines', 'meet', 'members', 'might', 'mild', 'million', 'millions', 'mind', 'mine', 'minor', 'minutes', 'misinformation', 'miss', 'missing', 'mmr', 'moderna', 'mom', 'moment', 'monday', 'money', 'month', 'months', 'morning', 'mother', 'move', 'movement', 'moving', 'mrna', 'msm', 'much', 'multiple', 'mum', 'muscle', 'must', 'mutate', 'mutating', 'mutations', 'name', 'national', 'natural', 'naturally', 'nature', 'nd', 'near', 'nearly', 'necessary', 'need', 'needed', 'needle', 'needs', 'negative', 'neither', 'nervous', 'never', 'new', 'news', 'next', 'nhs', 'nice', 'night', 'nobody', 'non', 'none', 'nonsense', 'nope', 'normal', 'normally', 'norway', 'nose', 'nothing', 'noticed', 'number', 'numbers', 'nurse', 'nurses', 'nursing', 'obvious', 'obviously', 'odds', 'offered', 'official', 'often', 'oh', 'oil', 'ok', 'okay', 'old', 'older', 'one', 'ones', 'open', 'operation', 'opinion', 'opportunity', 'option', 'order', 'others', 'otherwise', 'oxford', 'paid', 'pain', 'pandemic', 'parent', 'parents', 'part', 'pass', 'passing', 'passport', 'past', 'patient', 'patients', 'pause', 'pay', 'people', 'per', 'percent', 'perfect', 'perfectly', 'perhaps', 'period', 'person', 'personal', 'personally', 'pfizer', 'pharma', 'pharmaceutical', 'phase', 'phizer', 'pig', 'pigs', 'place', 'placebo', 'plan', 'planet', 'plans', 'play', 'playing', 'please', 'plenty', 'plus', 'point', 'poison', 'polio', 'political', 'politicians', 'politics', 'poor', 'population', 'positive', 'possibility', 'possible', 'possibly', 'post', 'potential', 'power', 'pox', 'ppl', 'pray', 'pregnant', 'president', 'pretty', 'prevent', 'prevents', 'previous', 'priority', 'pro', 'probably', 'problem', 'problems', 'process', 'produce', 'produced', 'producing', 'product', 'production', 'products', 'professional', 'professionals', 'profit', 'program', 'progress', 'proof', 'propaganda', 'proper', 'properly', 'protect', 'protected', 'protection', 'protein', 'proud', 'prove', 'proven', 'proves', 'provide', 'public', 'pure', 'push', 'pushed', 'pushing', 'put', 'putting', 'question', 'questions', 'quick', 'quickly', 'quit', 'quite', 'rare', 'rat', 'rate', 'rates', 'rather', 'rats', 'rd', 'react', 'reaction', 'reactions', 'read', 'ready', 'real', 'reality', 'realize', 'really', 'reason', 'reasonable', 'reasons', 'receive', 'received', 'receiving', 'recently', 'recommend', 'recommended', 'record', 'recovered', 'recovery', 'reduce', 'refuse', 'refuses', 'refusing', 'regardless', 'regular', 'related', 'relief', 'remember', 'report', 'reported', 'reporting', 'reports', 'require', 'required', 'research', 'researchers', 'respect', 'response', 'responsibility', 'responsible', 'rest', 'result', 'results', 'rich', 'rid', 'ridiculous', 'right', 'rights', 'risk', 'risks', 'risky', 'rna', 'roll', 'rolled', 'rolling', 'rollout', 'roulette', 'round', 'run', 'running', 'rush', 'rushed', 'russian', 'sad', 'sadly', 'safe', 'safer', 'safety', 'said', 'sake', 'sars', 'save', 'saved', 'saw', 'say', 'saying', 'says', 'scale', 'scam', 'scare', 'scared', 'scary', 'sceptical', 'schedule', 'scheduled', 'school', 'science', 'scientific', 'scientist', 'scientists', 'second', 'see', 'seeing', 'seem', 'seems', 'seen', 'self', 'selfish', 'sense', 'serious', 'seriously', 'service', 'severe', 'share', 'sharing', 'sheep', 'shit', 'short', 'shot', 'shots', 'show', 'showing', 'shows', 'shut', 'sick', 'side', 'sign', 'signs', 'similar', 'simple', 'simply', 'since', 'single', 'sister', 'site', 'sitting', 'situation', 'skeptical', 'skin', 'slight', 'slow', 'small', 'smart', 'smarter', 'social', 'society', 'solution', 'someone', 'something', 'son', 'soon', 'sooner', 'sore', 'soreness', 'sorry', 'sort', 'sound', 'sounds', 'source', 'south', 'speak', 'specific', 'speed', 'spent', 'spike', 'spread', 'spreading', 'sputnik', 'st', 'staff', 'stage', 'stand', 'start', 'started', 'starting', 'state', 'states', 'stay', 'staying', 'step', 'stick', 'still', 'stop', 'stopped', 'stops', 'straight', 'strain', 'strains', 'strange', 'stroke', 'strong', 'stronger', 'studied', 'studies', 'study', 'stuff', 'stupid', 'stupidity', 'success', 'successful', 'sue', 'sued', 'suffer', 'suffering', 'super', 'support', 'supposed', 'sure', 'surprised', 'survival', 'survive', 'survived', 'suspicious', 'swine', 'symptoms', 'system', 'systems', 'take', 'taken', 'takes', 'taking', 'talk', 'talking', 'target', 'teacher', 'technology', 'tell', 'telling', 'ten', 'term', 'terrible', 'test', 'tested', 'testing', 'tests', 'th', 'thank', 'thankful', 'thanks', 'thats', 'therapy', 'therefore', 'thing', 'things', 'think', 'thinking', 'third', 'tho', 'though', 'thought', 'thousands', 'threat', 'threatening', 'three', 'thursday', 'till', 'time', 'times', 'tired', 'today', 'together', 'told', 'tomorrow', 'took', 'top', 'total', 'totally', 'toxic', 'track', 'transmission', 'travel', 'treat', 'treated', 'treatment', 'trial', 'trials', 'tried', 'true', 'truly', 'trump', 'trust', 'trusted', 'trusting', 'truth', 'try', 'trying', 'tuesday', 'turn', 'turns', 'twice', 'two', 'type', 'types', 'uk', 'unable', 'underlying', 'understand', 'unfortunately', 'united', 'unknown', 'unless', 'unproven', 'untested', 'unvaccinated', 'update', 'upon', 'ur', 'us', 'use', 'used', 'useless', 'using', 'usually', 'vaccin', 'vaccinate', 'vaccinated', 'vaccinating', 'vaccination', 'vaccinations', 'vaccine', 'vaccines', 'vacine', 'value', 'variants', 'various', 'vax', 'vaxers', 'vaxx', 'vaxxed', 'vaxxer', 'vaxxers', 'video', 'videos', 'view', 'virus', 'viruses', 'visit', 'vitamins', 'vulnerable', 'wait', 'waiting', 'wake', 'wanna', 'want', 'wanted', 'wants', 'war', 'warp', 'watch', 'watching', 'water', 'way', 'ways', 'weak', 'weapon', 'wear', 'wearing', 'wednesday', 'week', 'weeks', 'weird', 'well', 'went', 'whatever', 'whether', 'white', 'whole', 'wife', 'wild', 'willing', 'winter', 'wish', 'within', 'without', 'woman', 'women', 'wonder', 'wonderful', 'wont', 'word', 'words', 'work', 'worked', 'worker', 'workers', 'working', 'works', 'world', 'worldwide', 'worried', 'worry', 'worrying', 'worse', 'worth', 'would', 'wow', 'wrong', 'ya', 'yall', 'yay', 'yeah', 'year', 'yearly', 'years', 'yes', 'yesterday', 'yet', 'young', 'youtube', 'zeneca', 'zero', 'zinc', 'zombie', 'zombies']\n"
          ],
          "name": "stdout"
        }
      ]
    }
  ]
}